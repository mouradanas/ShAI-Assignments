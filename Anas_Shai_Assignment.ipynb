{
  "nbformat": 4,
  "nbformat_minor": 0,
  "metadata": {
    "colab": {
      "provenance": []
    },
    "kernelspec": {
      "name": "python3",
      "display_name": "Python 3"
    },
    "language_info": {
      "name": "python"
    }
  },
  "cells": [
    {
      "cell_type": "markdown",
      "source": [
        "#About Dataset\n",
        "Salaries dataset generally provides information about the employees of an organization in relation to their compensation. It typically includes details such as how much each employee is paid (their salary), their job titles, the departments they work in, and possibly additional information like their level of experience, education, and employment history within the organization."
      ],
      "metadata": {
        "id": "eDWf1-Hq9vDO"
      }
    },
    {
      "cell_type": "markdown",
      "source": [
        "# Features\n",
        "- 'Id'\n",
        "- 'EmployeeName'\n",
        "- 'JobTitle'\n",
        "- 'BasePay'\n",
        "- 'OvertimePay'\n",
        "- 'OtherPay'\n",
        "- 'Benefits'\n",
        "- 'TotalPay' -> salary\n",
        "- 'TotalPayBenefits'\n",
        "- 'Year'\n",
        "- 'Notes'\n",
        "- 'Agency'\n",
        "- 'Status'"
      ],
      "metadata": {
        "id": "IRNela8W969J"
      }
    },
    {
      "cell_type": "markdown",
      "source": [
        "# Tasks\n",
        "\n",
        "1. **Basic Data Exploration**: Identify the number of rows and columns in the dataset, determine the data types of each column, and check for missing values in each column.\n",
        "\n",
        "2. **Descriptive Statistics**: Calculate basic statistics mean, median, mode, minimum, and maximum salary, determine the range of salaries, and find the standard deviation.\n",
        "\n",
        "3. **Data Cleaning**: Handle missing data by suitable method with explain why you use it.\n",
        "\n",
        "4. **Basic Data Visualization**: Create histograms or bar charts to visualize the distribution of salaries, and use pie charts to represent the proportion of employees in different departments.\n",
        "\n",
        "5. **Grouped Analysis**: Group the data by one or more columns and calculate summary statistics for each group, and compare the average salaries across different groups.\n",
        "\n",
        "6. **Simple Correlation Analysis**: Identify any correlation between salary and another numerical column, and plot a scatter plot to visualize the relationship.\n",
        "\n",
        "8. **Summary of Insights**: Write a brief report summarizing the findings and insights from the analysis."
      ],
      "metadata": {
        "id": "g_Y6hAcV9_Pc"
      }
    },
    {
      "cell_type": "markdown",
      "source": [
        "# Very Important Note\n",
        "There is no fixed or singular solution for this assignment, so if anything is not clear, please do what you understand and provide an explanation."
      ],
      "metadata": {
        "id": "RPVDgXct-Thl"
      }
    },
    {
      "cell_type": "code",
      "source": [
        "import pandas as pd\n",
        "import numpy as np\n",
        "\n",
        "from sklearn.impute import SimpleImputer\n",
        "from sklearn.compose import ColumnTransformer\n",
        "import matplotlib.pyplot as plt\n",
        "\n",
        "\n",
        "df = pd.read_csv('Salaries.csv')\n",
        "df.head()\n"
      ],
      "metadata": {
        "id": "x34nlVev-eBR"
      },
      "execution_count": null,
      "outputs": []
    },
    {
      "cell_type": "markdown",
      "source": [
        "# 1.   **Basic Data Exploration**\n",
        "> **Summarization** for what I will go through:\n",
        "\n",
        "\n",
        "*   **Exploring** The column labels of the DataFrame\n",
        "*   **Exploring** The dimensions of the DataFrame\n",
        "*   **Exploring** The data types of each column in the DataFrame\n",
        "*   **Calculating** The number of missing values (NaNs) in each column of the DataFrame & Understanding the overall distribution of missing data in the DataFrame\n",
        "\n",
        "\n",
        "##### ***Note*** for the code snippet of the missing values:\n",
        "```\n",
        "# The output values for the first run of missing values code snippet.\n",
        "Id                       0\n",
        "EmployeeName             0\n",
        "JobTitle                 0\n",
        "BasePay                609\n",
        "OvertimePay              4\n",
        "OtherPay                 4\n",
        "Benefits             36163\n",
        "TotalPay                 0\n",
        "TotalPayBenefits         0\n",
        "Year                     0\n",
        "Notes               148654\n",
        "Agency                   0\n",
        "Status              148654\n",
        "dtype: int64\n",
        "\n",
        "```\n",
        "\n",
        "\n",
        "\n",
        "\n",
        "\n",
        "\n",
        "\n",
        "\n",
        "\n",
        "\n",
        "\n",
        "\n"
      ],
      "metadata": {
        "id": "o5noCpooDIz7"
      }
    },
    {
      "cell_type": "code",
      "source": [
        "df.columns"
      ],
      "metadata": {
        "id": "S8H7ryOwF-eD"
      },
      "execution_count": null,
      "outputs": []
    },
    {
      "cell_type": "code",
      "source": [
        "df.shape"
      ],
      "metadata": {
        "id": "RGAuBBVMGbUb"
      },
      "execution_count": null,
      "outputs": []
    },
    {
      "cell_type": "code",
      "source": [
        "df.dtypes"
      ],
      "metadata": {
        "id": "2hjwoHvFGm3s"
      },
      "execution_count": null,
      "outputs": []
    },
    {
      "cell_type": "code",
      "source": [
        "missing_values = df.isnull().sum()\n",
        "missing_values"
      ],
      "metadata": {
        "id": "F-5ikXRyGpER"
      },
      "execution_count": null,
      "outputs": []
    },
    {
      "cell_type": "markdown",
      "source": [
        "# 2.   **Descriptive Statistics**\n",
        "> **Summarization** for what I will go through:\n",
        "\n",
        "*   **Calculate** the ***mean*** salary in the dataset, It represents the \"**average**\" salary.\n",
        "*   **Calculate** the ***median*** salary in the dataset, It represents the \"**middle**\" value when all salaries are arranged in ascending order.\n",
        "*   **Calculate** the ***mode*** salary in the dataset, It represents the salary that appears most often.\n",
        "*   **Finding** the ***minimum*** salary in the dataset, It represents the \"**lowest**\" salary value present.\n",
        "*   **Finding** the ***maximum*** salary in the dataset, It represents the \"**highest**\" salary value present.\n",
        "*   **Calculate** the range of salaries in the dataset, It represents the difference between the **maximum** and **minimum** salaries.\n",
        "*   **Calculate** the standard deviation of salaries in the dataset, It measures how spread out the salary values are around the mean\n",
        "\n",
        "\n",
        "\n",
        "\n",
        "\n",
        "\n",
        "\n",
        "\n",
        "\n"
      ],
      "metadata": {
        "id": "6D0uenB2G4tN"
      }
    },
    {
      "cell_type": "code",
      "source": [
        "sal_mean = df.TotalPay.mean()\n",
        "sal_mean"
      ],
      "metadata": {
        "id": "vLn_FaNpKnzt"
      },
      "execution_count": null,
      "outputs": []
    },
    {
      "cell_type": "code",
      "source": [
        "sal_median = df.TotalPay.median()\n",
        "sal_median"
      ],
      "metadata": {
        "id": "9tC4FfAmKqM5"
      },
      "execution_count": null,
      "outputs": []
    },
    {
      "cell_type": "code",
      "source": [
        "sal_mode = df.TotalPay.mode()\n",
        "sal_mode"
      ],
      "metadata": {
        "id": "Jg6qZCcoKr_4"
      },
      "execution_count": null,
      "outputs": []
    },
    {
      "cell_type": "code",
      "source": [
        "sal_min = df.TotalPay.min()\n",
        "sal_min"
      ],
      "metadata": {
        "id": "Yy_hLERDKuFx"
      },
      "execution_count": null,
      "outputs": []
    },
    {
      "cell_type": "code",
      "source": [
        "sal_max = df.TotalPay.max()\n",
        "sal_max"
      ],
      "metadata": {
        "id": "dNmuZ51zKvyx"
      },
      "execution_count": null,
      "outputs": []
    },
    {
      "cell_type": "code",
      "source": [
        "sal_range = sal_max - sal_min\n",
        "sal_range"
      ],
      "metadata": {
        "id": "EOk4v797KxEw"
      },
      "execution_count": null,
      "outputs": []
    },
    {
      "cell_type": "code",
      "source": [
        "sal_std = df.TotalPay.std()\n",
        "sal_std"
      ],
      "metadata": {
        "id": "imcWmtKWKyNM"
      },
      "execution_count": null,
      "outputs": []
    },
    {
      "cell_type": "markdown",
      "source": [
        "# 3.   **Data Cleaning**\n",
        "> **Summarization** for what I will go through:\n",
        "\n",
        "*   Missing Value Imputation\n",
        "*   Replacing Original Columns\n",
        "*   Dropping Unnecessary Columns\n",
        "\n",
        " #### In summary, and during data cleaning, two columns, 'Notes' and 'Status', were removed as they contained no data and were deemed irrelevant for analysis and I imputed other partialy missing columns so we don't lose any entry points, by implementing this I prepared the DataFrame for further analysis\n",
        "\n",
        "\n"
      ],
      "metadata": {
        "id": "3jfpkUmZLCLO"
      }
    },
    {
      "cell_type": "code",
      "source": [
        "missing_columns = ['Benefits','BasePay','OvertimePay','OtherPay']\n",
        "\n",
        "imputer = ColumnTransformer(\n",
        "    transformers=[\n",
        "        ('numeric', SimpleImputer(strategy='median'), missing_columns),\n",
        "    ])\n",
        "\n",
        "imputed_columns = pd.DataFrame(imputer.fit_transform(df))"
      ],
      "metadata": {
        "id": "TOb3SeYFLNxJ"
      },
      "execution_count": 49,
      "outputs": []
    },
    {
      "cell_type": "code",
      "source": [
        "df[['Benefits','BasePay','OvertimePay','OtherPay']] = imputed_columns"
      ],
      "metadata": {
        "id": "McOb3exkLQfN"
      },
      "execution_count": 50,
      "outputs": []
    },
    {
      "cell_type": "code",
      "source": [
        "#### These columns were empty and don't provide relevant information, so they are dropped.\n",
        "df.drop(columns=['Notes', 'Status'], axis=1, inplace=True)\n",
        "df"
      ],
      "metadata": {
        "id": "2S81JjiZLSuR"
      },
      "execution_count": null,
      "outputs": []
    },
    {
      "cell_type": "markdown",
      "source": [
        "# 4.   **Basic Data Visualization**\n",
        "> **Summarization** for what I will go through:\n",
        "\n",
        "*   Graphical Distribution of Total Pay\n",
        "\n",
        "#### The histogram below shows us how many individuals fall into different ranges of total pay."
      ],
      "metadata": {
        "id": "WGUFixopNTL5"
      }
    },
    {
      "cell_type": "code",
      "source": [
        "plt.hist(df['TotalPay'], bins=100)\n",
        "plt.xlabel('Total Pay')\n",
        "plt.ylabel('Frequency')\n",
        "plt.title('Distribution of Total Pay')\n",
        "plt.show()"
      ],
      "metadata": {
        "id": "KCLBsrUSOdAA"
      },
      "execution_count": null,
      "outputs": []
    },
    {
      "cell_type": "markdown",
      "source": [
        "# 5.   **Grouped Analysis**\n",
        "> **Summarization** for what I will go through:\n",
        "\n",
        "#### Analyzing the relationship between ***Job titles*** and ***Total pay*** in the dataset\n",
        "\n",
        "  > Conclusion:\n",
        "\n",
        "-----> The Highest salary goes to \"GENERAL MANAGER-METROPOLITAN TRANSIT AUTHORITY\"\n",
        "\n",
        "-----> The Lowest salaries goes to \"Drug Court Coordinator, Public Safety Comm Tech, IS Technician Assistant, etc\""
      ],
      "metadata": {
        "id": "PIIo2cp-PgFa"
      }
    },
    {
      "cell_type": "code",
      "source": [
        "TitleVsTotalPay = df.groupby('JobTitle')['TotalPay'].mean().sort_values(ascending=False)\n",
        "TitleVsTotalPay"
      ],
      "metadata": {
        "id": "57gaeey3QW9X"
      },
      "execution_count": null,
      "outputs": []
    },
    {
      "cell_type": "markdown",
      "source": [
        "# 6. **Simple Correlation Analysis**\n",
        "> **Summarization** for what I will go through:\n",
        "####   Identifies which numerical columns in the data have the strongest relationships (positive or negative) with the \"TotalPay\" column\n",
        "\n"
      ],
      "metadata": {
        "id": "b0mh7JyKRgTC"
      }
    },
    {
      "cell_type": "code",
      "source": [
        "##Dropping-Catagorical-Columns\n",
        "num_df = df.drop([\"EmployeeName\",\"JobTitle\",\"Agency\"], axis=1)\n",
        "##Calculating-Correlations-with-\"TotalPay\"\n",
        "correlations = num_df.corr()[\"TotalPay\"].drop(\"TotalPay\").sort_values(ascending=False)\n",
        "correlations"
      ],
      "metadata": {
        "id": "bmCggmVgSClO"
      },
      "execution_count": null,
      "outputs": []
    },
    {
      "cell_type": "code",
      "source": [
        "plt.scatter(df['TotalPay'], df['TotalPayBenefits'])\n",
        "plt.xlabel('TotalPay')\n",
        "plt.ylabel('TotalPayBenefits')\n",
        "plt.title('TotalPay vs TotalPayBenefits')\n",
        "plt.show()"
      ],
      "metadata": {
        "id": "tPNtLMs-SFZ-"
      },
      "execution_count": null,
      "outputs": []
    },
    {
      "cell_type": "code",
      "source": [
        "plt.scatter(df['TotalPay'], df['Benefits'])\n",
        "plt.xlabel('TotalPay')\n",
        "plt.ylabel('Benefits')\n",
        "plt.title('TotalPay vs Benefits')\n",
        "plt.show()"
      ],
      "metadata": {
        "id": "GCz0I-k5SHR_"
      },
      "execution_count": null,
      "outputs": []
    },
    {
      "cell_type": "markdown",
      "source": [
        "# 7.   **Summary of Insights**\n",
        "> ***The findings and insights from the analysis***\n",
        "\n",
        "*   **The presence** of a **negative minimum** value likely indicates **errors or exceptional cases** needing further investigation (It is just one value with **ID: 148654**)\n",
        "\n",
        "*   **The wide range** of over **568,000 dollars** and high standard deviation of over **50,000 dollars** confirm the significant **variability** in **salaries**, with some individuals earning considerably more than others.\n",
        "\n",
        "\n",
        "*   **The lack of** a **clear mode value** makes it harder to pinpoint the most common salary\n",
        "\n",
        "*   \"**Benefits**\" (0.977) and \"**BasePay**\" (0.951) have the **strongest** positive **correlations** with \"**TotalPay**\". The strongest **relationship** among them all.\n",
        "\n",
        "*   \"**Year**\" (0.032) has a very **weak** **positive** **correlation**\n",
        "\n",
        "*   **Missing department column** in the data set & Two main columns were invalid 'Notes' & 'Status'.\n",
        "\n"
      ],
      "metadata": {
        "id": "9VknvjFJSMIa"
      }
    }
  ]
}